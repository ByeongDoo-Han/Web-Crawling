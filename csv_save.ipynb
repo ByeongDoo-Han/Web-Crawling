{
 "cells": [
  {
   "cell_type": "code",
   "execution_count": null,
   "metadata": {},
   "outputs": [],
   "source": [
    "import csv\n",
    "from urllib.request import urlopen\n",
    "from urllib.parse import quote_plus\n",
    "from bs4 import BeautifulSoup\n",
    "\n",
    "search = input('검색어를 입력하세요. : ')\n",
    "url = f'https://m.search.naver.com/search.naver?where=m_view&sm=mtb_jum&query={quote_plus(search)}'\n",
    "html = urlopen(url).read()\n",
    "soup = BeautifulSoup(html, 'html.parser')\n",
    "\n",
    "total = soup.select('.api_txt_lines.total_tit')\n",
    "searchList = []\n",
    "\n",
    "for i in total:\n",
    "    temp = []\n",
    "    temp.append(i.text)\n",
    "    temp.append(i.attrs['href'])\n",
    "    searchList.append(temp)\n",
    "    \n",
    "f = open(f'{search}.csv', 'w', encoding='utf-8', newline='')\n",
    "csvWriter = csv.writer(f)\n",
    "for i in searchList:\n",
    "    csvWriter.writerow(i)\n",
    "    \n",
    "f.close()\n",
    "\n",
    "print('완료됐습니다.')"
   ]
  },
  {
   "cell_type": "code",
   "execution_count": null,
   "metadata": {},
   "outputs": [],
   "source": [
    "import pandas as pd\n",
    "pd.read_csv(r'search.csv',header=None)"
   ]
  },
  {
   "cell_type": "code",
   "execution_count": null,
   "metadata": {},
   "outputs": [],
   "source": []
  }
 ],
 "metadata": {
  "kernelspec": {
   "display_name": "Python 3",
   "language": "python",
   "name": "python3"
  },
  "language_info": {
   "codemirror_mode": {
    "name": "ipython",
    "version": 3
   },
   "file_extension": ".py",
   "mimetype": "text/x-python",
   "name": "python",
   "nbconvert_exporter": "python",
   "pygments_lexer": "ipython3",
   "version": "3.7.3"
  }
 },
 "nbformat": 4,
 "nbformat_minor": 2
}
