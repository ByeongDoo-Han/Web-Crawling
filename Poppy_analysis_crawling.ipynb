{
 "cells": [
  {
   "cell_type": "code",
   "execution_count": 1,
   "metadata": {},
   "outputs": [],
   "source": [
    "from bs4 import BeautifulSoup\n",
    "from pprint import pprint\n",
    "import requests, re, os\n",
    "import tqdm\n",
    "from IPython.display import Image\n",
    "import csv\n",
    "from urllib.request import urlopen\n",
    "from urllib.parse import quote_plus\n",
    "import numpy as np\n",
    "import pandas as pd"
   ]
  },
  {
   "cell_type": "code",
   "execution_count": 2,
   "metadata": {},
   "outputs": [],
   "source": [
    "q = quote_plus('내내내내박자')\n",
    "url = f\"http://op.gg/summoner/userName={q}\"\n",
    "html = requests.get(url)\n",
    "soup = BeautifulSoup(html.text, 'html.parser')"
   ]
  },
  {
   "cell_type": "code",
   "execution_count": 3,
   "metadata": {},
   "outputs": [],
   "source": [
    "containers = soup.findAll('div',{'class':'GameItemWrap'})"
   ]
  },
  {
   "cell_type": "code",
   "execution_count": 4,
   "metadata": {},
   "outputs": [],
   "source": [
    "container = containers[0]"
   ]
  },
  {
   "cell_type": "code",
   "execution_count": 5,
   "metadata": {},
   "outputs": [
    {
     "name": "stdout",
     "output_type": "stream",
     "text": [
      "4077101854\n",
      "4076996634\n",
      "4076808752\n",
      "4075130607\n",
      "4073444663\n",
      "4073307990\n",
      "4073326066\n",
      "4073304969\n",
      "4071966855\n",
      "4071991142\n",
      "4071896072\n",
      "4071834590\n",
      "4070839712\n",
      "4068310030\n",
      "4068228140\n",
      "4068234369\n",
      "4068102574\n",
      "4067911413\n",
      "4067354361\n",
      "4066106695\n"
     ]
    }
   ],
   "source": [
    "for container in containers:\n",
    "    print(container.div['data-game-id'])"
   ]
  },
  {
   "cell_type": "code",
   "execution_count": 6,
   "metadata": {
    "scrolled": true
   },
   "outputs": [],
   "source": [
    "Summoner_id = container.div['data-summoner-id']\n",
    "Game_id = container.div['data-game-id']\n",
    "Game_type = container.div('div', {'class':'GameType'})[0].text.strip()\n",
    "Game_start_time = container.div('div', {'class':'TimeStamp'})[0].text.strip()\n",
    "\n",
    "Game_length = container.div('div', {'class':'GameLength'})[0].text.strip()\n",
    "Win_lose = container.div['class'][-1]\n",
    "champion = container.div.a.img['alt']\n",
    "Rune = container.div('div', {'class':'Rune'})[0].img['alt']\n",
    "Kill = container.div('div', {'class':'KDA'})[0].div.select('span')[0].text\n",
    "Death = container.div('div', {'class':'KDA'})[0].div.select('span')[1].text\n",
    "Assist = container.div('div', {'class':'KDA'})[0].div.select('span')[2].text\n",
    "KDA = container.div('div', {'class':'KDARatio'})[0].text.strip().split()[0]\n",
    "Level = container.div('div', {'class':'Level'})[0].text.strip().replace('Level','')\n",
    "CS = container.div('span', {'class':'CS tip'})[0].text.split()[0]\n",
    "CS_per_M = container.div('span', {'class':'CS tip'})[0].text.split()[1].strip('()')\n",
    "KP = container.div('div', {'class':'CKRate tip'})[0].text.strip().split()[-1].replace('%','')\n",
    "Tier_average = container.div('b')[0].text\n",
    "\n",
    "# Item_list = []\n",
    "# for i in q('div', {'class':'ItemList'})[0].findAll('img')[:7]:\n",
    "#     if i['class'] == ['Image', 'tip']:\n",
    "#         Item_list.append(i['alt'])\n",
    "# Item_0 = Item_list[0]\n",
    "# Item_1 = Item_list[1]\n",
    "# Item_2 = Item_list[2]\n",
    "# Item_3 = Item_list[3]\n",
    "# Item_4 = Item_list[4]\n",
    "# Item_5 = Item_list[5]\n",
    "# Item_6 = Item_list[6]\n",
    "\n",
    "# Team_list = []\n",
    "# for i in q('div', {'class':'Team'})[0].findAll('div', {'class':'ChampionImage'}):\n",
    "#     Team_list.append(i.div.text)\n",
    "# Team_TOP = Team_list[0]\n",
    "# Team_JG = Team_list[1]\n",
    "# Team_MID = Team_list[2]\n",
    "# Team_AD = Team_list[3]\n",
    "# Team_SUP = Team_list[4]\n",
    "\n",
    "# Enemy_list = []\n",
    "# for i in q('div', {'class':'Team'})[1].findAll('div', {'class':'ChampionImage'}):\n",
    "#     Enemy_list.append(i.div.text)\n",
    "# Enemy_TOP = Enemy_list[0]\n",
    "# Enemy_JG = Enemy_list[1]\n",
    "# Enemy_MID = Enemy_list[2]\n",
    "# Enemy_AD = Enemy_list[3]\n",
    "# Enemy_SUP = Enemy_list[4]"
   ]
  },
  {
   "cell_type": "code",
   "execution_count": 7,
   "metadata": {
    "scrolled": false
   },
   "outputs": [
    {
     "name": "stdout",
     "output_type": "stream",
     "text": [
      "Item_0 = Frozen Heart\n",
      "Item_1 = Corrupting Potion\n",
      "Item_2 = Adaptive Helm\n",
      "Item_3 = Oracle Lens\n",
      "Item_4 = Ruby Crystal\n",
      "Item_5 = Giant's Belt\n",
      "Item_6 = Boots of Mobility\n"
     ]
    }
   ],
   "source": [
    "startnum = 0\n",
    "for i in container.findAll('div', {'class':'ItemList'})[0].findAll('img', {'class':'Image tip'}):\n",
    "    print(\"Item_%s = \"%format(str(startnum)) + i['alt'])\n",
    "    startnum+=1"
   ]
  },
  {
   "cell_type": "code",
   "execution_count": 9,
   "metadata": {},
   "outputs": [],
   "source": [
    "filename = 'Poppy.csv'\n",
    "f = open(filename, 'w')\n",
    "\n",
    "headers = 'Summoner_id,Game_id,Game_type,Game_start_time,Game_length, Win_lose,Champion,Rune,Kill,Death,Assist,KD,Level,CS,CS_per_M,KP,Tier_average\\n' \n",
    "\n",
    "f.write(headers)\n",
    "for container in containers:\n",
    "    Summoner_id = container.div['data-summoner-id']\n",
    "    Game_id = container.div['data-game-id']\n",
    "    Game_type = container.div('div', {'class':'GameType'})[0].text.strip()\n",
    "    Game_start_time = container.div('div', {'class':'TimeStamp'})[0].text.strip()\n",
    "\n",
    "    Game_length = container.div('div', {'class':'GameLength'})[0].text.strip()\n",
    "    Win_lose = container.div['class'][-1]\n",
    "    Champion = container.div.a.img['alt']\n",
    "    Rune = container.div('div', {'class':'Rune'})[0].img['alt']\n",
    "    Kill = container.div('div', {'class':'KDA'})[0].div.select('span')[0].text\n",
    "    Death = container.div('div', {'class':'KDA'})[0].div.select('span')[1].text\n",
    "    Assist = container.div('div', {'class':'KDA'})[0].div.select('span')[2].text\n",
    "    KDA = container.div('div', {'class':'KDARatio'})[0].text.strip().split()[0]\n",
    "    Level = container.div('div', {'class':'Level'})[0].text.strip().replace('Level','')\n",
    "    CS = container.div('span', {'class':'CS tip'})[0].text.split()[0]\n",
    "    CS_per_M = container.div('span', {'class':'CS tip'})[0].text.split()[1].strip('()')\n",
    "    KP = container.div('div', {'class':'CKRate tip'})[0].text.strip().split()[-1].replace('%','')\n",
    "    Tier_average = container.div('b')[0].text\n",
    "    f.write(Summoner_id + \",\" + Game_id + \",\" + Game_type + \",\" + Game_start_time + \",\" + Game_length + \",\" + Win_lose + \",\" + Champion + \",\" + Rune + \",\" + Kill + \",\" + Death + \",\" + Assist + \",\" + KDA + \",\" + Level + \",\" + CS + \",\" + CS_per_M + \",\" + KP + Tier_average + '\\n')\n",
    "    \n",
    "f.close()\n",
    "    \n",
    "#     'Summoner_id, Game_id, Game_type, Game_start_time, Game_length, Win_lose, champion, Rune, Kill, Death, Assist, KD, Level, CS, CS_per_M, KP, Tier_average, Item_0, Item_1, Item_2, Item_3, Item_4, Item_5, Team_TOP, Team_JG, Team_MID, Team_AD, Team_SUP, Enemy_TOP, Enemy_JG, Enemy_MID, Enemy_AD, Enemy_SUP\\n'"
   ]
  },
  {
   "cell_type": "code",
   "execution_count": 10,
   "metadata": {},
   "outputs": [],
   "source": [
    "#내내내내박자의 id\n",
    "# data-summoner-id = 30871243\n",
    "\n",
    "# 게임정보 아이디(가변)\n",
    "# data-game-id = 4070839712\n",
    "\n",
    "# 게임시작시간 정보(고유)\n",
    "# data-game-time = 1578401712\n",
    "\n",
    "# data-game-result = win"
   ]
  },
  {
   "cell_type": "code",
   "execution_count": 11,
   "metadata": {},
   "outputs": [
    {
     "data": {
      "text/html": [
       "<img src=\"//opgg-static.akamaized.net/images/lol/champion/Poppy.png?image=q_auto,w_30&v=1576566284\"/>"
      ],
      "text/plain": [
       "<IPython.core.display.Image object>"
      ]
     },
     "execution_count": 11,
     "metadata": {},
     "output_type": "execute_result"
    }
   ],
   "source": [
    "Image(url='//opgg-static.akamaized.net/images/lol/champion/Poppy.png?image=q_auto,w_30&v=1576566284')"
   ]
  },
  {
   "cell_type": "code",
   "execution_count": 12,
   "metadata": {},
   "outputs": [
    {
     "data": {
      "text/html": [
       "<img src=\"//opgg-static.akamaized.net/images/lol/item/3025.png?image=q_auto,w_22&v=1578479159\"/>"
      ],
      "text/plain": [
       "<IPython.core.display.Image object>"
      ]
     },
     "execution_count": 12,
     "metadata": {},
     "output_type": "execute_result"
    }
   ],
   "source": [
    "Image(url='//opgg-static.akamaized.net/images/lol/item/3025.png?image=q_auto,w_22&v=1578479159')"
   ]
  },
  {
   "cell_type": "code",
   "execution_count": 13,
   "metadata": {},
   "outputs": [
    {
     "data": {
      "text/html": [
       "<img src=\"//opgg-static.akamaized.net/images/lol/item/3025.png?image=q_auto&v=1578454648\"/>"
      ],
      "text/plain": [
       "<IPython.core.display.Image object>"
      ]
     },
     "execution_count": 13,
     "metadata": {},
     "output_type": "execute_result"
    }
   ],
   "source": [
    "Image(url='//opgg-static.akamaized.net/images/lol/item/3025.png?image=q_auto&v=1578454648')"
   ]
  },
  {
   "cell_type": "code",
   "execution_count": 14,
   "metadata": {},
   "outputs": [
    {
     "data": {
      "text/html": [
       "<img src=\"//opgg-static.akamaized.net/images/lol/item/3025.png\"/>"
      ],
      "text/plain": [
       "<IPython.core.display.Image object>"
      ]
     },
     "execution_count": 14,
     "metadata": {},
     "output_type": "execute_result"
    }
   ],
   "source": [
    "Image(url='//opgg-static.akamaized.net/images/lol/item/3025.png')"
   ]
  },
  {
   "cell_type": "code",
   "execution_count": 15,
   "metadata": {},
   "outputs": [
    {
     "data": {
      "text/html": [
       "<img src=\"//opgg-static.akamaized.net/images/lol/item/3025.png?image=q_auto,w_66&v=1578454648\"/>"
      ],
      "text/plain": [
       "<IPython.core.display.Image object>"
      ]
     },
     "execution_count": 15,
     "metadata": {},
     "output_type": "execute_result"
    }
   ],
   "source": [
    "Image(url='//opgg-static.akamaized.net/images/lol/item/3025.png?image=q_auto,w_66&v=1578454648')"
   ]
  },
  {
   "cell_type": "code",
   "execution_count": 16,
   "metadata": {},
   "outputs": [
    {
     "data": {
      "text/html": [
       "<img src=\"//opgg-static.akamaized.net/images/lol/item/3025.png?image=q_auto,w_100&v=1578454648\"/>"
      ],
      "text/plain": [
       "<IPython.core.display.Image object>"
      ]
     },
     "execution_count": 16,
     "metadata": {},
     "output_type": "execute_result"
    }
   ],
   "source": [
    "Image(url='//opgg-static.akamaized.net/images/lol/item/3025.png?image=q_auto,w_100&v=1578454648')"
   ]
  },
  {
   "cell_type": "code",
   "execution_count": null,
   "metadata": {},
   "outputs": [],
   "source": []
  }
 ],
 "metadata": {
  "kernelspec": {
   "display_name": "Python 3",
   "language": "python",
   "name": "python3"
  },
  "language_info": {
   "codemirror_mode": {
    "name": "ipython",
    "version": 3
   },
   "file_extension": ".py",
   "mimetype": "text/x-python",
   "name": "python",
   "nbconvert_exporter": "python",
   "pygments_lexer": "ipython3",
   "version": "3.7.3"
  }
 },
 "nbformat": 4,
 "nbformat_minor": 2
}
